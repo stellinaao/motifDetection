{
 "cells": [
  {
   "cell_type": "markdown",
   "id": "03dfa860-df09-418c-b465-f0c7aae03929",
   "metadata": {},
   "source": [
    "## Motif Detection\n",
    "### Stellina Ao, 10.13.2024 - \n",
    "The purpose of this code is to detect hippocampal motifs in data collected by the Allen Institute."
   ]
  },
  {
   "cell_type": "markdown",
   "id": "3b45d56f-d95e-4e4e-8b76-b385d930cdc8",
   "metadata": {},
   "source": [
    "#### Read in Data"
   ]
  },
  {
   "cell_type": "code",
   "execution_count": 1,
   "id": "036944f9-32bb-45ac-ad5f-0ff4a193fbfe",
   "metadata": {},
   "outputs": [],
   "source": [
    "from pynwb import NWBHDF5IO\n",
    "import numpy as np\n",
    "import pandas as pd\n",
    "import matplotlib.pyplot as plt\n",
    "from scipy.fft import fft, fftfreq\n",
    "\n",
    "import warnings\n",
    "warnings.filterwarnings(\"ignore\")"
   ]
  },
  {
   "cell_type": "code",
   "execution_count": 2,
   "id": "d3e12ff3-5922-4d86-80da-5fdb928f9115",
   "metadata": {},
   "outputs": [],
   "source": [
    "io = NWBHDF5IO('..\\Data\\sub-692072_ses-1298465622.nwb', mode=\"r\", load_namespaces=True)\n",
    "nwb = io.read()\n",
    "units_raw = nwb.units\n",
    "col_names = list(units_raw[0])\n",
    "electrodes = nwb.electrodes\n",
    "#where(nwb.electrodes['location'][:] == 'CA1')"
   ]
  },
  {
   "cell_type": "markdown",
   "id": "88aae53c-79f1-4067-95b5-4b2a29a83495",
   "metadata": {},
   "source": [
    "Isolate CA1"
   ]
  },
  {
   "cell_type": "code",
   "execution_count": 3,
   "id": "1a361607-4577-411d-bb7f-d2d76c024c79",
   "metadata": {},
   "outputs": [],
   "source": [
    "# much quicker, just weird stuff abt list --> pddf\n",
    "units = []\n",
    "\n",
    "for i in range(len(units_raw)):\n",
    "    peak_id = units_raw.peak_channel_id[i] # unit id --> electrode id\n",
    "    location_id = np.where(electrodes.id[:]==peak_id)[0] # electrode id --> location index\n",
    "    location_name = str(electrodes['location'][location_id])[2:-2] # location index --> location name\n",
    "\n",
    "    if location_name == \"CA1\":\n",
    "        units_i = units_raw[i].values.tolist()[0]\n",
    "        units.append(units_i)\n",
    "    "
   ]
  },
  {
   "cell_type": "code",
   "execution_count": 4,
   "id": "94a85d25-53df-49f3-91ea-2798d3bd9faf",
   "metadata": {
    "scrolled": true
   },
   "outputs": [
    {
     "data": {
      "text/html": [
       "<div>\n",
       "<style scoped>\n",
       "    .dataframe tbody tr th:only-of-type {\n",
       "        vertical-align: middle;\n",
       "    }\n",
       "\n",
       "    .dataframe tbody tr th {\n",
       "        vertical-align: top;\n",
       "    }\n",
       "\n",
       "    .dataframe thead th {\n",
       "        text-align: right;\n",
       "    }\n",
       "</style>\n",
       "<table border=\"1\" class=\"dataframe\">\n",
       "  <thead>\n",
       "    <tr style=\"text-align: right;\">\n",
       "      <th></th>\n",
       "      <th>recovery_slope</th>\n",
       "      <th>presence_ratio</th>\n",
       "      <th>velocity_above</th>\n",
       "      <th>snr</th>\n",
       "      <th>nn_hit_rate</th>\n",
       "      <th>amplitude</th>\n",
       "      <th>amplitude_cutoff</th>\n",
       "      <th>cluster_id</th>\n",
       "      <th>waveform_duration</th>\n",
       "      <th>max_drift</th>\n",
       "      <th>...</th>\n",
       "      <th>quality</th>\n",
       "      <th>nn_miss_rate</th>\n",
       "      <th>spread</th>\n",
       "      <th>PT_ratio</th>\n",
       "      <th>firing_rate</th>\n",
       "      <th>l_ratio</th>\n",
       "      <th>silhouette_score</th>\n",
       "      <th>spike_times</th>\n",
       "      <th>spike_amplitudes</th>\n",
       "      <th>waveform_mean</th>\n",
       "    </tr>\n",
       "  </thead>\n",
       "  <tbody>\n",
       "    <tr>\n",
       "      <th>0</th>\n",
       "      <td>-1.000000</td>\n",
       "      <td>0.99</td>\n",
       "      <td>-0.103015</td>\n",
       "      <td>0.416924</td>\n",
       "      <td>0.270882</td>\n",
       "      <td>67.121145</td>\n",
       "      <td>0.500000</td>\n",
       "      <td>171</td>\n",
       "      <td>1.634506</td>\n",
       "      <td>31.44</td>\n",
       "      <td>...</td>\n",
       "      <td>noise</td>\n",
       "      <td>0.022598</td>\n",
       "      <td>140.0</td>\n",
       "      <td>4.849517</td>\n",
       "      <td>2.255217</td>\n",
       "      <td>0.231291</td>\n",
       "      <td>0.096603</td>\n",
       "      <td>[22.78182278016842, 22.807422693593516, 23.131...</td>\n",
       "      <td>[3.922582485302846e-05, 3.670163308088668e-05,...</td>\n",
       "      <td>[[0.0, -0.6314099999999974, -1.365974999999999...</td>\n",
       "    </tr>\n",
       "    <tr>\n",
       "      <th>1</th>\n",
       "      <td>-0.532755</td>\n",
       "      <td>0.99</td>\n",
       "      <td>0.011446</td>\n",
       "      <td>0.703193</td>\n",
       "      <td>0.513333</td>\n",
       "      <td>59.689110</td>\n",
       "      <td>0.500000</td>\n",
       "      <td>172</td>\n",
       "      <td>2.046566</td>\n",
       "      <td>18.74</td>\n",
       "      <td>...</td>\n",
       "      <td>noise</td>\n",
       "      <td>0.033796</td>\n",
       "      <td>170.0</td>\n",
       "      <td>0.299286</td>\n",
       "      <td>5.813922</td>\n",
       "      <td>0.236176</td>\n",
       "      <td>-0.001593</td>\n",
       "      <td>[21.57582685865791, 22.122425010148493, 22.285...</td>\n",
       "      <td>[6.217149405793323e-05, 5.594412400168287e-05,...</td>\n",
       "      <td>[[0.0, -0.5879249999999985, -1.37358, -1.10701...</td>\n",
       "    </tr>\n",
       "    <tr>\n",
       "      <th>2</th>\n",
       "      <td>-0.038140</td>\n",
       "      <td>0.99</td>\n",
       "      <td>0.892797</td>\n",
       "      <td>1.114907</td>\n",
       "      <td>0.994000</td>\n",
       "      <td>93.104505</td>\n",
       "      <td>0.020325</td>\n",
       "      <td>173</td>\n",
       "      <td>0.494472</td>\n",
       "      <td>23.03</td>\n",
       "      <td>...</td>\n",
       "      <td>good</td>\n",
       "      <td>0.000368</td>\n",
       "      <td>120.0</td>\n",
       "      <td>0.381165</td>\n",
       "      <td>3.407846</td>\n",
       "      <td>0.000540</td>\n",
       "      <td>0.122963</td>\n",
       "      <td>[31.857492087674977, 32.26179072040027, 37.170...</td>\n",
       "      <td>[0.0001111246902649, 8.990657825610332e-05, 0....</td>\n",
       "      <td>[[0.0, -0.4369950000000018, -0.979875000000006...</td>\n",
       "    </tr>\n",
       "    <tr>\n",
       "      <th>3</th>\n",
       "      <td>-0.043289</td>\n",
       "      <td>0.99</td>\n",
       "      <td>0.343384</td>\n",
       "      <td>1.156439</td>\n",
       "      <td>0.946667</td>\n",
       "      <td>72.605130</td>\n",
       "      <td>0.452410</td>\n",
       "      <td>174</td>\n",
       "      <td>0.302178</td>\n",
       "      <td>18.61</td>\n",
       "      <td>...</td>\n",
       "      <td>good</td>\n",
       "      <td>0.044405</td>\n",
       "      <td>100.0</td>\n",
       "      <td>0.477054</td>\n",
       "      <td>12.240420</td>\n",
       "      <td>0.030185</td>\n",
       "      <td>0.071006</td>\n",
       "      <td>[20.524197081771923, 20.6163634367464, 21.1379...</td>\n",
       "      <td>[8.397554213019525e-05, 6.347096966217724e-05,...</td>\n",
       "      <td>[[0.0, 0.9455549999999984, 1.7785949999999986,...</td>\n",
       "    </tr>\n",
       "    <tr>\n",
       "      <th>4</th>\n",
       "      <td>-0.074747</td>\n",
       "      <td>0.99</td>\n",
       "      <td>-0.091569</td>\n",
       "      <td>0.969209</td>\n",
       "      <td>0.923333</td>\n",
       "      <td>59.180745</td>\n",
       "      <td>0.377369</td>\n",
       "      <td>175</td>\n",
       "      <td>0.302178</td>\n",
       "      <td>26.51</td>\n",
       "      <td>...</td>\n",
       "      <td>noise</td>\n",
       "      <td>0.048877</td>\n",
       "      <td>150.0</td>\n",
       "      <td>0.625579</td>\n",
       "      <td>17.362320</td>\n",
       "      <td>0.022455</td>\n",
       "      <td>0.060853</td>\n",
       "      <td>[20.71629643212198, 20.788929519821576, 20.857...</td>\n",
       "      <td>[8.578274397045404e-05, 6.511100066774274e-05,...</td>\n",
       "      <td>[[0.0, -0.9594000000000021, -0.980850000000002...</td>\n",
       "    </tr>\n",
       "    <tr>\n",
       "      <th>...</th>\n",
       "      <td>...</td>\n",
       "      <td>...</td>\n",
       "      <td>...</td>\n",
       "      <td>...</td>\n",
       "      <td>...</td>\n",
       "      <td>...</td>\n",
       "      <td>...</td>\n",
       "      <td>...</td>\n",
       "      <td>...</td>\n",
       "      <td>...</td>\n",
       "      <td>...</td>\n",
       "      <td>...</td>\n",
       "      <td>...</td>\n",
       "      <td>...</td>\n",
       "      <td>...</td>\n",
       "      <td>...</td>\n",
       "      <td>...</td>\n",
       "      <td>...</td>\n",
       "      <td>...</td>\n",
       "      <td>...</td>\n",
       "      <td>...</td>\n",
       "    </tr>\n",
       "    <tr>\n",
       "      <th>157</th>\n",
       "      <td>-0.028849</td>\n",
       "      <td>0.17</td>\n",
       "      <td>-0.022892</td>\n",
       "      <td>1.238933</td>\n",
       "      <td>0.000000</td>\n",
       "      <td>94.625289</td>\n",
       "      <td>0.000681</td>\n",
       "      <td>608</td>\n",
       "      <td>0.727973</td>\n",
       "      <td>6.42</td>\n",
       "      <td>...</td>\n",
       "      <td>good</td>\n",
       "      <td>0.000033</td>\n",
       "      <td>120.0</td>\n",
       "      <td>0.223661</td>\n",
       "      <td>0.046950</td>\n",
       "      <td>0.001384</td>\n",
       "      <td>-1.000000</td>\n",
       "      <td>[3615.9006047480316, 3630.016157011443, 3633.3...</td>\n",
       "      <td>[0.0002137390130016982, 0.0004633663177824609,...</td>\n",
       "      <td>[[0.0, -0.5983421052631572, -0.554210526315789...</td>\n",
       "    </tr>\n",
       "    <tr>\n",
       "      <th>158</th>\n",
       "      <td>-0.131547</td>\n",
       "      <td>0.55</td>\n",
       "      <td>0.902608</td>\n",
       "      <td>4.151433</td>\n",
       "      <td>0.333333</td>\n",
       "      <td>217.681379</td>\n",
       "      <td>0.004751</td>\n",
       "      <td>609</td>\n",
       "      <td>0.631826</td>\n",
       "      <td>17.04</td>\n",
       "      <td>...</td>\n",
       "      <td>good</td>\n",
       "      <td>0.000267</td>\n",
       "      <td>70.0</td>\n",
       "      <td>0.431843</td>\n",
       "      <td>0.044356</td>\n",
       "      <td>0.011598</td>\n",
       "      <td>0.060925</td>\n",
       "      <td>[2421.2780447745954, 2427.3413576027533, 2457....</td>\n",
       "      <td>[0.00010851743409720796, 0.0001047824361180276...</td>\n",
       "      <td>[[0.0, 0.2743036211699168, -0.3117827298050144...</td>\n",
       "    </tr>\n",
       "    <tr>\n",
       "      <th>159</th>\n",
       "      <td>-0.081595</td>\n",
       "      <td>0.82</td>\n",
       "      <td>0.882986</td>\n",
       "      <td>3.032849</td>\n",
       "      <td>0.611111</td>\n",
       "      <td>172.240925</td>\n",
       "      <td>0.223263</td>\n",
       "      <td>614</td>\n",
       "      <td>0.631826</td>\n",
       "      <td>24.88</td>\n",
       "      <td>...</td>\n",
       "      <td>good</td>\n",
       "      <td>0.000467</td>\n",
       "      <td>70.0</td>\n",
       "      <td>0.376840</td>\n",
       "      <td>0.098225</td>\n",
       "      <td>0.005979</td>\n",
       "      <td>-1.000000</td>\n",
       "      <td>[587.0735144339675, 647.3613772165161, 743.605...</td>\n",
       "      <td>[0.00027037865676346137, 0.0002511933876652157...</td>\n",
       "      <td>[[0.0, 0.05641509433962488, -0.431943396226415...</td>\n",
       "    </tr>\n",
       "    <tr>\n",
       "      <th>160</th>\n",
       "      <td>-0.111812</td>\n",
       "      <td>0.76</td>\n",
       "      <td>0.274707</td>\n",
       "      <td>3.683995</td>\n",
       "      <td>0.400000</td>\n",
       "      <td>336.955674</td>\n",
       "      <td>0.027993</td>\n",
       "      <td>621</td>\n",
       "      <td>0.686767</td>\n",
       "      <td>24.14</td>\n",
       "      <td>...</td>\n",
       "      <td>good</td>\n",
       "      <td>0.000300</td>\n",
       "      <td>60.0</td>\n",
       "      <td>0.277311</td>\n",
       "      <td>0.077962</td>\n",
       "      <td>0.000147</td>\n",
       "      <td>-1.000000</td>\n",
       "      <td>[36.3437769157617, 36.403476713866326, 36.5770...</td>\n",
       "      <td>[0.00032542453922756976, 0.0003056701614838182...</td>\n",
       "      <td>[[0.0, -1.0179556259904938, -1.368708399366088...</td>\n",
       "    </tr>\n",
       "    <tr>\n",
       "      <th>161</th>\n",
       "      <td>-0.087038</td>\n",
       "      <td>0.75</td>\n",
       "      <td>0.824121</td>\n",
       "      <td>4.149158</td>\n",
       "      <td>0.000000</td>\n",
       "      <td>158.487967</td>\n",
       "      <td>0.000701</td>\n",
       "      <td>623</td>\n",
       "      <td>0.673032</td>\n",
       "      <td>4.13</td>\n",
       "      <td>...</td>\n",
       "      <td>good</td>\n",
       "      <td>0.000067</td>\n",
       "      <td>70.0</td>\n",
       "      <td>0.534677</td>\n",
       "      <td>0.045591</td>\n",
       "      <td>0.000452</td>\n",
       "      <td>-1.000000</td>\n",
       "      <td>[119.04573056402899, 176.45040309707582, 258.3...</td>\n",
       "      <td>[0.00010275151551352607, 9.150815357965571e-05...</td>\n",
       "      <td>[[0.0, -0.8772357723577241, -1.858048780487804...</td>\n",
       "    </tr>\n",
       "  </tbody>\n",
       "</table>\n",
       "<p>162 rows × 29 columns</p>\n",
       "</div>"
      ],
      "text/plain": [
       "     recovery_slope  presence_ratio  velocity_above       snr  nn_hit_rate  \\\n",
       "0         -1.000000            0.99       -0.103015  0.416924     0.270882   \n",
       "1         -0.532755            0.99        0.011446  0.703193     0.513333   \n",
       "2         -0.038140            0.99        0.892797  1.114907     0.994000   \n",
       "3         -0.043289            0.99        0.343384  1.156439     0.946667   \n",
       "4         -0.074747            0.99       -0.091569  0.969209     0.923333   \n",
       "..              ...             ...             ...       ...          ...   \n",
       "157       -0.028849            0.17       -0.022892  1.238933     0.000000   \n",
       "158       -0.131547            0.55        0.902608  4.151433     0.333333   \n",
       "159       -0.081595            0.82        0.882986  3.032849     0.611111   \n",
       "160       -0.111812            0.76        0.274707  3.683995     0.400000   \n",
       "161       -0.087038            0.75        0.824121  4.149158     0.000000   \n",
       "\n",
       "      amplitude  amplitude_cutoff  cluster_id  waveform_duration  max_drift  \\\n",
       "0     67.121145          0.500000         171           1.634506      31.44   \n",
       "1     59.689110          0.500000         172           2.046566      18.74   \n",
       "2     93.104505          0.020325         173           0.494472      23.03   \n",
       "3     72.605130          0.452410         174           0.302178      18.61   \n",
       "4     59.180745          0.377369         175           0.302178      26.51   \n",
       "..          ...               ...         ...                ...        ...   \n",
       "157   94.625289          0.000681         608           0.727973       6.42   \n",
       "158  217.681379          0.004751         609           0.631826      17.04   \n",
       "159  172.240925          0.223263         614           0.631826      24.88   \n",
       "160  336.955674          0.027993         621           0.686767      24.14   \n",
       "161  158.487967          0.000701         623           0.673032       4.13   \n",
       "\n",
       "     ...  quality  nn_miss_rate  spread  PT_ratio  firing_rate   l_ratio  \\\n",
       "0    ...    noise      0.022598   140.0  4.849517     2.255217  0.231291   \n",
       "1    ...    noise      0.033796   170.0  0.299286     5.813922  0.236176   \n",
       "2    ...     good      0.000368   120.0  0.381165     3.407846  0.000540   \n",
       "3    ...     good      0.044405   100.0  0.477054    12.240420  0.030185   \n",
       "4    ...    noise      0.048877   150.0  0.625579    17.362320  0.022455   \n",
       "..   ...      ...           ...     ...       ...          ...       ...   \n",
       "157  ...     good      0.000033   120.0  0.223661     0.046950  0.001384   \n",
       "158  ...     good      0.000267    70.0  0.431843     0.044356  0.011598   \n",
       "159  ...     good      0.000467    70.0  0.376840     0.098225  0.005979   \n",
       "160  ...     good      0.000300    60.0  0.277311     0.077962  0.000147   \n",
       "161  ...     good      0.000067    70.0  0.534677     0.045591  0.000452   \n",
       "\n",
       "     silhouette_score                                        spike_times  \\\n",
       "0            0.096603  [22.78182278016842, 22.807422693593516, 23.131...   \n",
       "1           -0.001593  [21.57582685865791, 22.122425010148493, 22.285...   \n",
       "2            0.122963  [31.857492087674977, 32.26179072040027, 37.170...   \n",
       "3            0.071006  [20.524197081771923, 20.6163634367464, 21.1379...   \n",
       "4            0.060853  [20.71629643212198, 20.788929519821576, 20.857...   \n",
       "..                ...                                                ...   \n",
       "157         -1.000000  [3615.9006047480316, 3630.016157011443, 3633.3...   \n",
       "158          0.060925  [2421.2780447745954, 2427.3413576027533, 2457....   \n",
       "159         -1.000000  [587.0735144339675, 647.3613772165161, 743.605...   \n",
       "160         -1.000000  [36.3437769157617, 36.403476713866326, 36.5770...   \n",
       "161         -1.000000  [119.04573056402899, 176.45040309707582, 258.3...   \n",
       "\n",
       "                                      spike_amplitudes  \\\n",
       "0    [3.922582485302846e-05, 3.670163308088668e-05,...   \n",
       "1    [6.217149405793323e-05, 5.594412400168287e-05,...   \n",
       "2    [0.0001111246902649, 8.990657825610332e-05, 0....   \n",
       "3    [8.397554213019525e-05, 6.347096966217724e-05,...   \n",
       "4    [8.578274397045404e-05, 6.511100066774274e-05,...   \n",
       "..                                                 ...   \n",
       "157  [0.0002137390130016982, 0.0004633663177824609,...   \n",
       "158  [0.00010851743409720796, 0.0001047824361180276...   \n",
       "159  [0.00027037865676346137, 0.0002511933876652157...   \n",
       "160  [0.00032542453922756976, 0.0003056701614838182...   \n",
       "161  [0.00010275151551352607, 9.150815357965571e-05...   \n",
       "\n",
       "                                         waveform_mean  \n",
       "0    [[0.0, -0.6314099999999974, -1.365974999999999...  \n",
       "1    [[0.0, -0.5879249999999985, -1.37358, -1.10701...  \n",
       "2    [[0.0, -0.4369950000000018, -0.979875000000006...  \n",
       "3    [[0.0, 0.9455549999999984, 1.7785949999999986,...  \n",
       "4    [[0.0, -0.9594000000000021, -0.980850000000002...  \n",
       "..                                                 ...  \n",
       "157  [[0.0, -0.5983421052631572, -0.554210526315789...  \n",
       "158  [[0.0, 0.2743036211699168, -0.3117827298050144...  \n",
       "159  [[0.0, 0.05641509433962488, -0.431943396226415...  \n",
       "160  [[0.0, -1.0179556259904938, -1.368708399366088...  \n",
       "161  [[0.0, -0.8772357723577241, -1.858048780487804...  \n",
       "\n",
       "[162 rows x 29 columns]"
      ]
     },
     "execution_count": 4,
     "metadata": {},
     "output_type": "execute_result"
    }
   ],
   "source": [
    "units = pd.DataFrame(units, columns=col_names)\n",
    "units"
   ]
  },
  {
   "cell_type": "code",
   "execution_count": 6,
   "id": "a6611b41-b37d-4e0d-93dc-c6fc16f18066",
   "metadata": {},
   "outputs": [
    {
     "name": "stdout",
     "output_type": "stream",
     "text": [
      "(162,)\n"
     ]
    },
    {
     "data": {
      "text/plain": [
       "array([  22.78182278,   22.80742269,   23.1314216 , ..., 8113.99835955,\n",
       "       8114.12842578, 8114.162459  ])"
      ]
     },
     "execution_count": 6,
     "metadata": {},
     "output_type": "execute_result"
    }
   ],
   "source": [
    "unitSpikeTimes_raw = units[\"spike_times\"]\n",
    "print(np.shape(unitSpikeTimes_raw))\n",
    "unitSpikeTimes_raw[0]"
   ]
  },
  {
   "cell_type": "markdown",
   "id": "f81c05ec-9fff-4774-92d8-c69e39ab0e82",
   "metadata": {},
   "source": [
    "#### Convert Spike Times to Spike Trains"
   ]
  },
  {
   "cell_type": "code",
   "execution_count": 7,
   "id": "dcb54815-1e11-45b9-ba7e-ee759c19bdce",
   "metadata": {},
   "outputs": [
    {
     "data": {
      "text/plain": [
       "array([  22.782,   22.807,   23.131, ..., 8113.998, 8114.128, 8114.162])"
      ]
     },
     "execution_count": 7,
     "metadata": {},
     "output_type": "execute_result"
    }
   ],
   "source": [
    "unitSpikeTimes = [np.round(unitSpikeTimes_raw[i], 3) for i in range(len(unitSpikeTimes_raw))]\n",
    "unitSpikeTimes[0]"
   ]
  },
  {
   "cell_type": "code",
   "execution_count": 8,
   "id": "0bee855c-4c6a-4c95-9c34-15882c1445fe",
   "metadata": {},
   "outputs": [
    {
     "data": {
      "text/plain": [
       "array([  22782,   22807,   23131, ..., 8113998, 8114128, 8114162])"
      ]
     },
     "execution_count": 8,
     "metadata": {},
     "output_type": "execute_result"
    }
   ],
   "source": [
    "unitSpikeTimes_whole = [np.unique([int(unitSpikeTimes[i][j] * 1e3) for j in range(len(unitSpikeTimes[i]))]) for i in range(len(unitSpikeTimes))]\n",
    "unitSpikeTimes_whole[0]"
   ]
  },
  {
   "cell_type": "markdown",
   "id": "8b3477f8-bf22-47d4-9959-3fe31206f518",
   "metadata": {},
   "source": [
    "NOTE: now, 1 s = 1000 indices; 1 ms = 1e-3 s = 1 index"
   ]
  },
  {
   "cell_type": "code",
   "execution_count": 9,
   "id": "0e1b1139-9d0b-4445-95eb-8bc30eeaf15c",
   "metadata": {},
   "outputs": [
    {
     "name": "stdout",
     "output_type": "stream",
     "text": [
      "0\n",
      "1\n",
      "2\n"
     ]
    }
   ],
   "source": [
    "spikeTrains = []\n",
    "for i in range(3):\n",
    "    print(i)\n",
    "    spikeTimes = unitSpikeTimes_whole[i]\n",
    "    length = int(spikeTimes[len(spikeTimes)-1])\n",
    "    \n",
    "    spikeTrains_i = np.zeros(length)\n",
    "    k = 0\n",
    "\n",
    "    for j in range(length):\n",
    "        if spikeTimes[k] == j:\n",
    "            spikeTrains_i[j] = 1\n",
    "            k+=1\n",
    "\n",
    "    spikeTrains.append(spikeTrains_i)\n",
    "        "
   ]
  },
  {
   "cell_type": "code",
   "execution_count": 9,
   "id": "90940766-e3f8-4dfd-a6d7-1f2176c34c52",
   "metadata": {},
   "outputs": [
    {
     "data": {
      "text/plain": [
       "<matplotlib.collections.PathCollection at 0x25d8a6de2b0>"
      ]
     },
     "execution_count": 9,
     "metadata": {},
     "output_type": "execute_result"
    },
    {
     "data": {
      "image/png": "[encoded data removed]",
      "text/plain": [
       "<Figure size 4000x1000 with 1 Axes>"
      ]
     },
     "metadata": {},
     "output_type": "display_data"
    },
    {
     "data": {
      "image/png": "[encoded data removed]",
      "text/plain": [
       "<Figure size 4000x1000 with 1 Axes>"
      ]
     },
     "metadata": {},
     "output_type": "display_data"
    }
   ],
   "source": [
    "plt.figure(figsize=(20, 5), dpi = 200)\n",
    "plt.scatter(range(len(spikeTrains[0])), spikeTrains[0], s=0.5)\n",
    "plt.figure(figsize=(20, 5), dpi = 200)\n",
    "plt.scatter(range(len(spikeTrains[0][2000000:3000000])), spikeTrains[0][2000000:3000000], s=0.5)"
   ]
  },
  {
   "cell_type": "markdown",
   "id": "6fcf31bc-0bd9-4ec3-ae50-b2f69bb8c493",
   "metadata": {},
   "source": [
    "#### Motif Detection"
   ]
  },
  {
   "cell_type": "code",
   "execution_count": 10,
   "id": "deaa9f9f-252b-4367-ae02-bee09bd8ec28",
   "metadata": {},
   "outputs": [],
   "source": [
    "N=10000\n",
    "randST = [np.round(x) for x in np.random.random_sample(size=N)]"
   ]
  },
  {
   "cell_type": "code",
   "execution_count": 11,
   "id": "2b8a38f8-9ba9-4e34-b6c2-0b5370a138bc",
   "metadata": {},
   "outputs": [
    {
     "data": {
      "text/plain": [
       "7329"
      ]
     },
     "execution_count": 11,
     "metadata": {},
     "output_type": "execute_result"
    }
   ],
   "source": [
    "convolve = list(np.zeros(0)) + list(np.ones(1000)) + list(np.zeros(0))\n",
    "cRandST = list(np.convolve(randST, convolve))\n",
    "cRandST.index(max(cRandST))\n"
   ]
  },
  {
   "cell_type": "code",
   "execution_count": 14,
   "id": "36212720-2e8e-4387-877d-f26d3b894f8d",
   "metadata": {},
   "outputs": [
    {
     "data": {
      "text/plain": [
       "(558.0, (6330, 7330))"
      ]
     },
     "execution_count": 14,
     "metadata": {},
     "output_type": "execute_result"
    }
   ],
   "source": [
    "peakFR(randST)"
   ]
  },
  {
   "cell_type": "code",
   "execution_count": 18,
   "id": "ffd021d8-7c7e-4445-9986-56024c22011c",
   "metadata": {},
   "outputs": [],
   "source": [
    "def peakFRConvolve(spikeTrain, windowSize = 1000):\n",
    "    convolve=list(np.zeros(0)) + list(np.ones(windowSize)) + list(np.zeros(0))\n",
    "    \n",
    "    cST = list(np.convolve(spikeTrain, convolve))\n",
    "\n",
    "    peakFR = max(cST)\n",
    "    indexE = cST.index(max(cST)) + 1\n",
    "    indexS = indexE - 1000\n",
    "    \n",
    "    return peakFR, (indexS, indexE)\n",
    "    "
   ]
  },
  {
   "cell_type": "code",
   "execution_count": 19,
   "id": "1905c04b-f056-4bab-a512-552d74340f41",
   "metadata": {},
   "outputs": [
    {
     "data": {
      "text/plain": [
       "(558.0, (6330, 7330))"
      ]
     },
     "execution_count": 19,
     "metadata": {},
     "output_type": "execute_result"
    }
   ],
   "source": [
    "peakFRConvolve(randST)"
   ]
  },
  {
   "cell_type": "code",
   "execution_count": 20,
   "id": "c18b323c-5f98-4d0e-9cd2-b2afe412cf21",
   "metadata": {},
   "outputs": [
    {
     "data": {
      "text/plain": [
       "array([0, 0, 1, 1, 2, 1, 2, 2, 3, 2, 1, 0, 0, 0, 0])"
      ]
     },
     "execution_count": 20,
     "metadata": {},
     "output_type": "execute_result"
    }
   ],
   "source": [
    "np.convolve([1, 0, 1, 0, 1, 1, 1, 0, 0], [0, 0, 1, 1, 1, 0, 0])"
   ]
  },
  {
   "cell_type": "code",
   "execution_count": 13,
   "id": "04cfd583-18ee-41b7-b4b4-deaf432e9eba",
   "metadata": {},
   "outputs": [],
   "source": [
    "# prob need to search for more efficient ver\n",
    "def peakFR(spikeTrain): # NOTE: 1 index = 1 ms np.convolve   window = 1000 # 1000 indices = 1 s\n",
    "    peakFR = 0\n",
    "    indices = (0, 0)\n",
    "    \n",
    "    for i in range(len(spikeTrain)-1000):\n",
    "        fr = sum(spikeTrain[i:i+1000])\n",
    "        if fr > peakFR:\n",
    "            peakFR = fr\n",
    "            indices = (i, i+1000)\n",
    "\n",
    "    return peakFR, indices # kernel = square function\n",
    "\n",
    "def minFR(spikeTrain):\n",
    "    window = 1000 # 1000 indices = 1 s\n",
    "    minFR = sum(spikeTrain)\n",
    "    \n",
    "    for i in range(len(spikeTrain)-window):\n",
    "        minFR = min(minFR, sum(spikeTrain[i:i+1000]))\n",
    "\n",
    "    return minFR"
   ]
  },
  {
   "cell_type": "code",
   "execution_count": 30,
   "id": "12762825-1f50-47cc-aeb2-50d9f27ece9d",
   "metadata": {},
   "outputs": [],
   "source": [
    "def isMotif(spikeTrain):\n",
    "    # conditions to be a motif:\n",
    "    #     neuron achieved a peak firing rate of at least 5 Hz (5 spike/1000 indices) and \n",
    "    #     maintained a firing rate above 10% of that peak for at least 300 ms\n",
    "    \n",
    "    pfr, pfrIndices = peakFR(spikeTrain)\n",
    "\n",
    "    if pfr >= 5 and minFR(spikeTrain[pfrIndices[1]:pfrIndices[1]+300]) > 0.1*pfr:\n",
    "        return True\n",
    "    \n",
    "    return False"
   ]
  },
  {
   "cell_type": "code",
   "execution_count": 34,
   "id": "297f00dc-8292-4953-b4cc-2200dcfa0f5b",
   "metadata": {},
   "outputs": [
    {
     "data": {
      "text/plain": [
       "True"
      ]
     },
     "execution_count": 34,
     "metadata": {},
     "output_type": "execute_result"
    }
   ],
   "source": [
    "isMotif(spikeTrains[0][2000000:3000000])"
   ]
  },
  {
   "cell_type": "code",
   "execution_count": 36,
   "id": "9d1fd1c3-8aaf-4957-9d2d-c9301f176955",
   "metadata": {},
   "outputs": [
    {
     "data": {
      "text/plain": [
       "3"
      ]
     },
     "execution_count": 36,
     "metadata": {},
     "output_type": "execute_result"
    }
   ],
   "source": [
    "10//3"
   ]
  },
  {
   "cell_type": "code",
   "execution_count": 37,
   "id": "94155969-75e9-4a9b-8834-97bbee91bd4d",
   "metadata": {},
   "outputs": [],
   "source": [
    "def findMotifs(spikeTrain): # \n",
    "    motifIndices = []\n",
    "    binLen = 10 * 1000 # 10 seconds\n",
    "\n",
    "    for i in range(len(spikeTrain)//binLen):\n",
    "        start = i * binLen\n",
    "        end = (i+1)*binLen if i!=len(spikeTrain)//binLen else len(spikeTrain)+1\n",
    "        \n",
    "        stBin = spikeTrain[start:end]\n",
    "\n",
    "        if isMotif(stBin):\n",
    "            motifIndices.append((start, end))\n",
    "\n",
    "    return motifIndices"
   ]
  },
  {
   "cell_type": "code",
   "execution_count": null,
   "id": "0cf6c905-794d-4dcb-a869-edde59450e29",
   "metadata": {},
   "outputs": [],
   "source": [
    "findMotifs(spikeTrains[0])"
   ]
  },
  {
   "cell_type": "code",
   "execution_count": null,
   "id": "b46cf8d6-265f-4588-a064-002288691202",
   "metadata": {},
   "outputs": [],
   "source": [
    "# N = 10000\n",
    "# T = 1 # inverse of the sampling rate = 1 samp/ms = 1000 samp/s \n",
    "\n",
    "# randST = [np.round(x) for x in np.random.random_sample(size=N)]\n",
    "\n",
    "# plt.figure(figsize=(8,12), dpi=100)\n",
    "# plt.plot(range(100), randST[0:100])\n",
    "\n",
    "# yf = fft(randST)\n",
    "# xf = fftfreq(N, T)[:N//2]\n",
    "# plt.plot(xf, 2.0/N * np.abs(yf[0:N//2]))\n",
    "# plt.show()\n",
    "\n",
    "# #xf[np.argmax(yf)]\n",
    "# max([i for i in range(N) if yf[i] != 0])\n",
    "\n",
    "# # print(f\"peakFR(randST): {peakFR(randST)}; fft(randST): {a}\")"
   ]
  }
 ],
 "metadata": {
  "kernelspec": {
   "display_name": "Python 3 (ipykernel)",
   "language": "python",
   "name": "python3"
  },
  "language_info": {
   "codemirror_mode": {
    "name": "ipython",
    "version": 3
   },
   "file_extension": ".py",
   "mimetype": "text/x-python",
   "name": "python",
   "nbconvert_exporter": "python",
   "pygments_lexer": "ipython3",
   "version": "3.9.20"
  }
 },
 "nbformat": 4,
 "nbformat_minor": 5
}
