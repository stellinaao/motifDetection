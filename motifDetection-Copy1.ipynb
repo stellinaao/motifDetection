{
 "cells": [
  {
   "cell_type": "markdown",
   "id": "03dfa860-df09-418c-b465-f0c7aae03929",
   "metadata": {},
   "source": [
    "## Motif Detection\n",
    "### Stellina Ao, 10.13.2024 - \n",
    "The purpose of this code is to detect hippocampal motifs in data collected by the Allen Institute."
   ]
  },
  {
   "cell_type": "markdown",
   "id": "3b45d56f-d95e-4e4e-8b76-b385d930cdc8",
   "metadata": {},
   "source": [
    "#### Read in Data"
   ]
  },
  {
   "cell_type": "code",
   "execution_count": 1,
   "id": "036944f9-32bb-45ac-ad5f-0ff4a193fbfe",
   "metadata": {},
   "outputs": [],
   "source": [
    "from pynwb import NWBHDF5IO\n",
    "import numpy as np\n",
    "import pandas as pd\n",
    "import matplotlib.pyplot as plt\n",
    "from scipy.stats import ks_2samp\n",
    "\n",
    "import warnings\n",
    "warnings.filterwarnings(\"ignore\")"
   ]
  },
  {
   "cell_type": "code",
   "execution_count": 2,
   "id": "d3e12ff3-5922-4d86-80da-5fdb928f9115",
   "metadata": {},
   "outputs": [],
   "source": [
    "io = NWBHDF5IO('..\\..\\..\\Data\\sub-692072_ses-1298465622.nwb', mode=\"r\", load_namespaces=True)\n",
    "nwb = io.read()\n",
    "units_raw = nwb.units\n",
    "col_names = list(units_raw[0])\n",
    "electrodes = nwb.electrodes\n",
    "#where(nwb.electrodes['location'][:] == 'CA1')"
   ]
  },
  {
   "cell_type": "markdown",
   "id": "88aae53c-79f1-4067-95b5-4b2a29a83495",
   "metadata": {},
   "source": [
    "Isolate CA1"
   ]
  },
  {
   "cell_type": "code",
   "execution_count": 3,
   "id": "1a361607-4577-411d-bb7f-d2d76c024c79",
   "metadata": {},
   "outputs": [],
   "source": [
    "units = []\n",
    "\n",
    "for i in range(len(units_raw)):\n",
    "    peak_id = units_raw.peak_channel_id[i] # unit id --> electrode id\n",
    "    location_id = np.where(electrodes.id[:]==peak_id)[0] # electrode id --> location index\n",
    "    location_name = str(electrodes['location'][location_id])[2:-2] # location index --> location name\n",
    "\n",
    "    if location_name == \"CA1\":\n",
    "        units_i = units_raw[i].values.tolist()[0]\n",
    "        units.append(units_i)\n",
    "    "
   ]
  },
  {
   "cell_type": "code",
   "execution_count": 4,
   "id": "94a85d25-53df-49f3-91ea-2798d3bd9faf",
   "metadata": {
    "scrolled": true
   },
   "outputs": [
    {
     "data": {
      "text/html": [
       "<div>\n",
       "<style scoped>\n",
       "    .dataframe tbody tr th:only-of-type {\n",
       "        vertical-align: middle;\n",
       "    }\n",
       "\n",
       "    .dataframe tbody tr th {\n",
       "        vertical-align: top;\n",
       "    }\n",
       "\n",
       "    .dataframe thead th {\n",
       "        text-align: right;\n",
       "    }\n",
       "</style>\n",
       "<table border=\"1\" class=\"dataframe\">\n",
       "  <thead>\n",
       "    <tr style=\"text-align: right;\">\n",
       "      <th></th>\n",
       "      <th>recovery_slope</th>\n",
       "      <th>presence_ratio</th>\n",
       "      <th>velocity_above</th>\n",
       "      <th>snr</th>\n",
       "      <th>nn_hit_rate</th>\n",
       "      <th>amplitude</th>\n",
       "      <th>amplitude_cutoff</th>\n",
       "      <th>cluster_id</th>\n",
       "      <th>waveform_duration</th>\n",
       "      <th>max_drift</th>\n",
       "      <th>...</th>\n",
       "      <th>quality</th>\n",
       "      <th>nn_miss_rate</th>\n",
       "      <th>spread</th>\n",
       "      <th>PT_ratio</th>\n",
       "      <th>firing_rate</th>\n",
       "      <th>l_ratio</th>\n",
       "      <th>silhouette_score</th>\n",
       "      <th>spike_times</th>\n",
       "      <th>spike_amplitudes</th>\n",
       "      <th>waveform_mean</th>\n",
       "    </tr>\n",
       "  </thead>\n",
       "  <tbody>\n",
       "    <tr>\n",
       "      <th>0</th>\n",
       "      <td>-1.000000</td>\n",
       "      <td>0.99</td>\n",
       "      <td>-0.103015</td>\n",
       "      <td>0.416924</td>\n",
       "      <td>0.270882</td>\n",
       "      <td>67.121145</td>\n",
       "      <td>0.500000</td>\n",
       "      <td>171</td>\n",
       "      <td>1.634506</td>\n",
       "      <td>31.44</td>\n",
       "      <td>...</td>\n",
       "      <td>noise</td>\n",
       "      <td>0.022598</td>\n",
       "      <td>140.0</td>\n",
       "      <td>4.849517</td>\n",
       "      <td>2.255217</td>\n",
       "      <td>0.231291</td>\n",
       "      <td>0.096603</td>\n",
       "      <td>[22.78182278016842, 22.807422693593516, 23.131...</td>\n",
       "      <td>[3.922582485302846e-05, 3.670163308088668e-05,...</td>\n",
       "      <td>[[0.0, -0.6314099999999974, -1.365974999999999...</td>\n",
       "    </tr>\n",
       "    <tr>\n",
       "      <th>1</th>\n",
       "      <td>-0.532755</td>\n",
       "      <td>0.99</td>\n",
       "      <td>0.011446</td>\n",
       "      <td>0.703193</td>\n",
       "      <td>0.513333</td>\n",
       "      <td>59.689110</td>\n",
       "      <td>0.500000</td>\n",
       "      <td>172</td>\n",
       "      <td>2.046566</td>\n",
       "      <td>18.74</td>\n",
       "      <td>...</td>\n",
       "      <td>noise</td>\n",
       "      <td>0.033796</td>\n",
       "      <td>170.0</td>\n",
       "      <td>0.299286</td>\n",
       "      <td>5.813922</td>\n",
       "      <td>0.236176</td>\n",
       "      <td>-0.001593</td>\n",
       "      <td>[21.57582685865791, 22.122425010148493, 22.285...</td>\n",
       "      <td>[6.217149405793323e-05, 5.594412400168287e-05,...</td>\n",
       "      <td>[[0.0, -0.5879249999999985, -1.37358, -1.10701...</td>\n",
       "    </tr>\n",
       "    <tr>\n",
       "      <th>2</th>\n",
       "      <td>-0.038140</td>\n",
       "      <td>0.99</td>\n",
       "      <td>0.892797</td>\n",
       "      <td>1.114907</td>\n",
       "      <td>0.994000</td>\n",
       "      <td>93.104505</td>\n",
       "      <td>0.020325</td>\n",
       "      <td>173</td>\n",
       "      <td>0.494472</td>\n",
       "      <td>23.03</td>\n",
       "      <td>...</td>\n",
       "      <td>good</td>\n",
       "      <td>0.000368</td>\n",
       "      <td>120.0</td>\n",
       "      <td>0.381165</td>\n",
       "      <td>3.407846</td>\n",
       "      <td>0.000540</td>\n",
       "      <td>0.122963</td>\n",
       "      <td>[31.857492087674977, 32.26179072040027, 37.170...</td>\n",
       "      <td>[0.0001111246902649, 8.990657825610332e-05, 0....</td>\n",
       "      <td>[[0.0, -0.4369950000000018, -0.979875000000006...</td>\n",
       "    </tr>\n",
       "    <tr>\n",
       "      <th>3</th>\n",
       "      <td>-0.043289</td>\n",
       "      <td>0.99</td>\n",
       "      <td>0.343384</td>\n",
       "      <td>1.156439</td>\n",
       "      <td>0.946667</td>\n",
       "      <td>72.605130</td>\n",
       "      <td>0.452410</td>\n",
       "      <td>174</td>\n",
       "      <td>0.302178</td>\n",
       "      <td>18.61</td>\n",
       "      <td>...</td>\n",
       "      <td>good</td>\n",
       "      <td>0.044405</td>\n",
       "      <td>100.0</td>\n",
       "      <td>0.477054</td>\n",
       "      <td>12.240420</td>\n",
       "      <td>0.030185</td>\n",
       "      <td>0.071006</td>\n",
       "      <td>[20.524197081771923, 20.6163634367464, 21.1379...</td>\n",
       "      <td>[8.397554213019525e-05, 6.347096966217724e-05,...</td>\n",
       "      <td>[[0.0, 0.9455549999999984, 1.7785949999999986,...</td>\n",
       "    </tr>\n",
       "    <tr>\n",
       "      <th>4</th>\n",
       "      <td>-0.074747</td>\n",
       "      <td>0.99</td>\n",
       "      <td>-0.091569</td>\n",
       "      <td>0.969209</td>\n",
       "      <td>0.923333</td>\n",
       "      <td>59.180745</td>\n",
       "      <td>0.377369</td>\n",
       "      <td>175</td>\n",
       "      <td>0.302178</td>\n",
       "      <td>26.51</td>\n",
       "      <td>...</td>\n",
       "      <td>noise</td>\n",
       "      <td>0.048877</td>\n",
       "      <td>150.0</td>\n",
       "      <td>0.625579</td>\n",
       "      <td>17.362320</td>\n",
       "      <td>0.022455</td>\n",
       "      <td>0.060853</td>\n",
       "      <td>[20.71629643212198, 20.788929519821576, 20.857...</td>\n",
       "      <td>[8.578274397045404e-05, 6.511100066774274e-05,...</td>\n",
       "      <td>[[0.0, -0.9594000000000021, -0.980850000000002...</td>\n",
       "    </tr>\n",
       "    <tr>\n",
       "      <th>...</th>\n",
       "      <td>...</td>\n",
       "      <td>...</td>\n",
       "      <td>...</td>\n",
       "      <td>...</td>\n",
       "      <td>...</td>\n",
       "      <td>...</td>\n",
       "      <td>...</td>\n",
       "      <td>...</td>\n",
       "      <td>...</td>\n",
       "      <td>...</td>\n",
       "      <td>...</td>\n",
       "      <td>...</td>\n",
       "      <td>...</td>\n",
       "      <td>...</td>\n",
       "      <td>...</td>\n",
       "      <td>...</td>\n",
       "      <td>...</td>\n",
       "      <td>...</td>\n",
       "      <td>...</td>\n",
       "      <td>...</td>\n",
       "      <td>...</td>\n",
       "    </tr>\n",
       "    <tr>\n",
       "      <th>157</th>\n",
       "      <td>-0.028849</td>\n",
       "      <td>0.17</td>\n",
       "      <td>-0.022892</td>\n",
       "      <td>1.238933</td>\n",
       "      <td>0.000000</td>\n",
       "      <td>94.625289</td>\n",
       "      <td>0.000681</td>\n",
       "      <td>608</td>\n",
       "      <td>0.727973</td>\n",
       "      <td>6.42</td>\n",
       "      <td>...</td>\n",
       "      <td>good</td>\n",
       "      <td>0.000033</td>\n",
       "      <td>120.0</td>\n",
       "      <td>0.223661</td>\n",
       "      <td>0.046950</td>\n",
       "      <td>0.001384</td>\n",
       "      <td>-1.000000</td>\n",
       "      <td>[3615.9006047480316, 3630.016157011443, 3633.3...</td>\n",
       "      <td>[0.0002137390130016982, 0.0004633663177824609,...</td>\n",
       "      <td>[[0.0, -0.5983421052631572, -0.554210526315789...</td>\n",
       "    </tr>\n",
       "    <tr>\n",
       "      <th>158</th>\n",
       "      <td>-0.131547</td>\n",
       "      <td>0.55</td>\n",
       "      <td>0.902608</td>\n",
       "      <td>4.151433</td>\n",
       "      <td>0.333333</td>\n",
       "      <td>217.681379</td>\n",
       "      <td>0.004751</td>\n",
       "      <td>609</td>\n",
       "      <td>0.631826</td>\n",
       "      <td>17.04</td>\n",
       "      <td>...</td>\n",
       "      <td>good</td>\n",
       "      <td>0.000267</td>\n",
       "      <td>70.0</td>\n",
       "      <td>0.431843</td>\n",
       "      <td>0.044356</td>\n",
       "      <td>0.011598</td>\n",
       "      <td>0.060925</td>\n",
       "      <td>[2421.2780447745954, 2427.3413576027533, 2457....</td>\n",
       "      <td>[0.00010851743409720796, 0.0001047824361180276...</td>\n",
       "      <td>[[0.0, 0.2743036211699168, -0.3117827298050144...</td>\n",
       "    </tr>\n",
       "    <tr>\n",
       "      <th>159</th>\n",
       "      <td>-0.081595</td>\n",
       "      <td>0.82</td>\n",
       "      <td>0.882986</td>\n",
       "      <td>3.032849</td>\n",
       "      <td>0.611111</td>\n",
       "      <td>172.240925</td>\n",
       "      <td>0.223263</td>\n",
       "      <td>614</td>\n",
       "      <td>0.631826</td>\n",
       "      <td>24.88</td>\n",
       "      <td>...</td>\n",
       "      <td>good</td>\n",
       "      <td>0.000467</td>\n",
       "      <td>70.0</td>\n",
       "      <td>0.376840</td>\n",
       "      <td>0.098225</td>\n",
       "      <td>0.005979</td>\n",
       "      <td>-1.000000</td>\n",
       "      <td>[587.0735144339675, 647.3613772165161, 743.605...</td>\n",
       "      <td>[0.00027037865676346137, 0.0002511933876652157...</td>\n",
       "      <td>[[0.0, 0.05641509433962488, -0.431943396226415...</td>\n",
       "    </tr>\n",
       "    <tr>\n",
       "      <th>160</th>\n",
       "      <td>-0.111812</td>\n",
       "      <td>0.76</td>\n",
       "      <td>0.274707</td>\n",
       "      <td>3.683995</td>\n",
       "      <td>0.400000</td>\n",
       "      <td>336.955674</td>\n",
       "      <td>0.027993</td>\n",
       "      <td>621</td>\n",
       "      <td>0.686767</td>\n",
       "      <td>24.14</td>\n",
       "      <td>...</td>\n",
       "      <td>good</td>\n",
       "      <td>0.000300</td>\n",
       "      <td>60.0</td>\n",
       "      <td>0.277311</td>\n",
       "      <td>0.077962</td>\n",
       "      <td>0.000147</td>\n",
       "      <td>-1.000000</td>\n",
       "      <td>[36.3437769157617, 36.403476713866326, 36.5770...</td>\n",
       "      <td>[0.00032542453922756976, 0.0003056701614838182...</td>\n",
       "      <td>[[0.0, -1.0179556259904938, -1.368708399366088...</td>\n",
       "    </tr>\n",
       "    <tr>\n",
       "      <th>161</th>\n",
       "      <td>-0.087038</td>\n",
       "      <td>0.75</td>\n",
       "      <td>0.824121</td>\n",
       "      <td>4.149158</td>\n",
       "      <td>0.000000</td>\n",
       "      <td>158.487967</td>\n",
       "      <td>0.000701</td>\n",
       "      <td>623</td>\n",
       "      <td>0.673032</td>\n",
       "      <td>4.13</td>\n",
       "      <td>...</td>\n",
       "      <td>good</td>\n",
       "      <td>0.000067</td>\n",
       "      <td>70.0</td>\n",
       "      <td>0.534677</td>\n",
       "      <td>0.045591</td>\n",
       "      <td>0.000452</td>\n",
       "      <td>-1.000000</td>\n",
       "      <td>[119.04573056402899, 176.45040309707582, 258.3...</td>\n",
       "      <td>[0.00010275151551352607, 9.150815357965571e-05...</td>\n",
       "      <td>[[0.0, -0.8772357723577241, -1.858048780487804...</td>\n",
       "    </tr>\n",
       "  </tbody>\n",
       "</table>\n",
       "<p>162 rows × 29 columns</p>\n",
       "</div>"
      ],
      "text/plain": [
       "     recovery_slope  presence_ratio  velocity_above       snr  nn_hit_rate  \\\n",
       "0         -1.000000            0.99       -0.103015  0.416924     0.270882   \n",
       "1         -0.532755            0.99        0.011446  0.703193     0.513333   \n",
       "2         -0.038140            0.99        0.892797  1.114907     0.994000   \n",
       "3         -0.043289            0.99        0.343384  1.156439     0.946667   \n",
       "4         -0.074747            0.99       -0.091569  0.969209     0.923333   \n",
       "..              ...             ...             ...       ...          ...   \n",
       "157       -0.028849            0.17       -0.022892  1.238933     0.000000   \n",
       "158       -0.131547            0.55        0.902608  4.151433     0.333333   \n",
       "159       -0.081595            0.82        0.882986  3.032849     0.611111   \n",
       "160       -0.111812            0.76        0.274707  3.683995     0.400000   \n",
       "161       -0.087038            0.75        0.824121  4.149158     0.000000   \n",
       "\n",
       "      amplitude  amplitude_cutoff  cluster_id  waveform_duration  max_drift  \\\n",
       "0     67.121145          0.500000         171           1.634506      31.44   \n",
       "1     59.689110          0.500000         172           2.046566      18.74   \n",
       "2     93.104505          0.020325         173           0.494472      23.03   \n",
       "3     72.605130          0.452410         174           0.302178      18.61   \n",
       "4     59.180745          0.377369         175           0.302178      26.51   \n",
       "..          ...               ...         ...                ...        ...   \n",
       "157   94.625289          0.000681         608           0.727973       6.42   \n",
       "158  217.681379          0.004751         609           0.631826      17.04   \n",
       "159  172.240925          0.223263         614           0.631826      24.88   \n",
       "160  336.955674          0.027993         621           0.686767      24.14   \n",
       "161  158.487967          0.000701         623           0.673032       4.13   \n",
       "\n",
       "     ...  quality  nn_miss_rate  spread  PT_ratio  firing_rate   l_ratio  \\\n",
       "0    ...    noise      0.022598   140.0  4.849517     2.255217  0.231291   \n",
       "1    ...    noise      0.033796   170.0  0.299286     5.813922  0.236176   \n",
       "2    ...     good      0.000368   120.0  0.381165     3.407846  0.000540   \n",
       "3    ...     good      0.044405   100.0  0.477054    12.240420  0.030185   \n",
       "4    ...    noise      0.048877   150.0  0.625579    17.362320  0.022455   \n",
       "..   ...      ...           ...     ...       ...          ...       ...   \n",
       "157  ...     good      0.000033   120.0  0.223661     0.046950  0.001384   \n",
       "158  ...     good      0.000267    70.0  0.431843     0.044356  0.011598   \n",
       "159  ...     good      0.000467    70.0  0.376840     0.098225  0.005979   \n",
       "160  ...     good      0.000300    60.0  0.277311     0.077962  0.000147   \n",
       "161  ...     good      0.000067    70.0  0.534677     0.045591  0.000452   \n",
       "\n",
       "     silhouette_score                                        spike_times  \\\n",
       "0            0.096603  [22.78182278016842, 22.807422693593516, 23.131...   \n",
       "1           -0.001593  [21.57582685865791, 22.122425010148493, 22.285...   \n",
       "2            0.122963  [31.857492087674977, 32.26179072040027, 37.170...   \n",
       "3            0.071006  [20.524197081771923, 20.6163634367464, 21.1379...   \n",
       "4            0.060853  [20.71629643212198, 20.788929519821576, 20.857...   \n",
       "..                ...                                                ...   \n",
       "157         -1.000000  [3615.9006047480316, 3630.016157011443, 3633.3...   \n",
       "158          0.060925  [2421.2780447745954, 2427.3413576027533, 2457....   \n",
       "159         -1.000000  [587.0735144339675, 647.3613772165161, 743.605...   \n",
       "160         -1.000000  [36.3437769157617, 36.403476713866326, 36.5770...   \n",
       "161         -1.000000  [119.04573056402899, 176.45040309707582, 258.3...   \n",
       "\n",
       "                                      spike_amplitudes  \\\n",
       "0    [3.922582485302846e-05, 3.670163308088668e-05,...   \n",
       "1    [6.217149405793323e-05, 5.594412400168287e-05,...   \n",
       "2    [0.0001111246902649, 8.990657825610332e-05, 0....   \n",
       "3    [8.397554213019525e-05, 6.347096966217724e-05,...   \n",
       "4    [8.578274397045404e-05, 6.511100066774274e-05,...   \n",
       "..                                                 ...   \n",
       "157  [0.0002137390130016982, 0.0004633663177824609,...   \n",
       "158  [0.00010851743409720796, 0.0001047824361180276...   \n",
       "159  [0.00027037865676346137, 0.0002511933876652157...   \n",
       "160  [0.00032542453922756976, 0.0003056701614838182...   \n",
       "161  [0.00010275151551352607, 9.150815357965571e-05...   \n",
       "\n",
       "                                         waveform_mean  \n",
       "0    [[0.0, -0.6314099999999974, -1.365974999999999...  \n",
       "1    [[0.0, -0.5879249999999985, -1.37358, -1.10701...  \n",
       "2    [[0.0, -0.4369950000000018, -0.979875000000006...  \n",
       "3    [[0.0, 0.9455549999999984, 1.7785949999999986,...  \n",
       "4    [[0.0, -0.9594000000000021, -0.980850000000002...  \n",
       "..                                                 ...  \n",
       "157  [[0.0, -0.5983421052631572, -0.554210526315789...  \n",
       "158  [[0.0, 0.2743036211699168, -0.3117827298050144...  \n",
       "159  [[0.0, 0.05641509433962488, -0.431943396226415...  \n",
       "160  [[0.0, -1.0179556259904938, -1.368708399366088...  \n",
       "161  [[0.0, -0.8772357723577241, -1.858048780487804...  \n",
       "\n",
       "[162 rows x 29 columns]"
      ]
     },
     "execution_count": 4,
     "metadata": {},
     "output_type": "execute_result"
    }
   ],
   "source": [
    "units = pd.DataFrame(units, columns=col_names)\n",
    "units"
   ]
  },
  {
   "cell_type": "code",
   "execution_count": 5,
   "id": "a6611b41-b37d-4e0d-93dc-c6fc16f18066",
   "metadata": {},
   "outputs": [
    {
     "name": "stdout",
     "output_type": "stream",
     "text": [
      "(162,)\n"
     ]
    },
    {
     "data": {
      "text/plain": [
       "array([  22.78182278,   22.80742269,   23.1314216 , ..., 8113.99835955,\n",
       "       8114.12842578, 8114.162459  ])"
      ]
     },
     "execution_count": 5,
     "metadata": {},
     "output_type": "execute_result"
    }
   ],
   "source": [
    "unitSpikeTimes_raw = units[\"spike_times\"]\n",
    "print(np.shape(unitSpikeTimes_raw))\n",
    "unitSpikeTimes_raw[0]"
   ]
  },
  {
   "cell_type": "markdown",
   "id": "f81c05ec-9fff-4774-92d8-c69e39ab0e82",
   "metadata": {},
   "source": [
    "#### Convert Spike Times to Spike Trains"
   ]
  },
  {
   "cell_type": "code",
   "execution_count": 6,
   "id": "dcb54815-1e11-45b9-ba7e-ee759c19bdce",
   "metadata": {},
   "outputs": [
    {
     "data": {
      "text/plain": [
       "array([  22.782,   22.807,   23.131, ..., 8113.998, 8114.128, 8114.162])"
      ]
     },
     "execution_count": 6,
     "metadata": {},
     "output_type": "execute_result"
    }
   ],
   "source": [
    "unitSpikeTimes = [np.round(unitSpikeTimes_raw[i], 3) for i in range(len(unitSpikeTimes_raw))] # seconds\n",
    "unitSpikeTimes[0]"
   ]
  },
  {
   "cell_type": "code",
   "execution_count": 7,
   "id": "0bee855c-4c6a-4c95-9c34-15882c1445fe",
   "metadata": {},
   "outputs": [
    {
     "data": {
      "text/plain": [
       "array([  22782,   22807,   23131, ..., 8113998, 8114128, 8114162])"
      ]
     },
     "execution_count": 7,
     "metadata": {},
     "output_type": "execute_result"
    }
   ],
   "source": [
    "unitSpikeTimes_whole = [np.unique([int(unitSpikeTimes[i][j] * 1e3) for j in range(len(unitSpikeTimes[i]))]) for i in range(len(unitSpikeTimes))] # ms\n",
    "unitSpikeTimes_whole[0]"
   ]
  },
  {
   "cell_type": "markdown",
   "id": "8b3477f8-bf22-47d4-9959-3fe31206f518",
   "metadata": {},
   "source": [
    "NOTE: now, 1 s = 1000 indices; 1 ms = 1e-3 s = 1 index"
   ]
  },
  {
   "cell_type": "code",
   "execution_count": 8,
   "id": "0e1b1139-9d0b-4445-95eb-8bc30eeaf15c",
   "metadata": {},
   "outputs": [
    {
     "name": "stdout",
     "output_type": "stream",
     "text": [
      "0\n",
      "1\n",
      "2\n"
     ]
    }
   ],
   "source": [
    "spikeTrains = []\n",
    "for i in range(3):\n",
    "    print(i)\n",
    "    spikeTimes = unitSpikeTimes_whole[i]\n",
    "    length = int(spikeTimes[len(spikeTimes)-1])\n",
    "    \n",
    "    spikeTrains_i = np.zeros(length)\n",
    "    k = 0\n",
    "\n",
    "    for j in range(length):\n",
    "        if spikeTimes[k] == j:\n",
    "            spikeTrains_i[j] = 1\n",
    "            k+=1\n",
    "\n",
    "    spikeTrains.append(spikeTrains_i)\n",
    "        "
   ]
  },
  {
   "cell_type": "code",
   "execution_count": 12,
   "id": "90940766-e3f8-4dfd-a6d7-1f2176c34c52",
   "metadata": {},
   "outputs": [
    {
     "data": {
      "text/plain": [
       "<matplotlib.collections.PathCollection at 0x1dc4bf05490>"
      ]
     },
     "execution_count": 12,
     "metadata": {},
     "output_type": "execute_result"
    },
    {
     "data": {
      "image/png": "[encoded data removed]",
      "text/plain": [
       "<Figure size 4000x1000 with 1 Axes>"
      ]
     },
     "metadata": {},
     "output_type": "display_data"
    },
    {
     "data": {
      "image/png": "[encoded data removed]",
      "text/plain": [
       "<Figure size 4000x1000 with 1 Axes>"
      ]
     },
     "metadata": {},
     "output_type": "display_data"
    }
   ],
   "source": [
    "plt.figure(figsize=(20, 5), dpi = 200)\n",
    "plt.scatter(range(len(spikeTrains[0])), spikeTrains[0], s=0.5)\n",
    "plt.figure(figsize=(20, 5), dpi = 200)\n",
    "plt.scatter(range(len(spikeTrains[0][2000000:3000000])), spikeTrains[0][2000000:3000000], s=0.5)"
   ]
  },
  {
   "cell_type": "markdown",
   "id": "6fcf31bc-0bd9-4ec3-ae50-b2f69bb8c493",
   "metadata": {},
   "source": [
    "#### Motif Detection"
   ]
  },
  {
   "cell_type": "code",
   "execution_count": 24,
   "id": "04cfd583-18ee-41b7-b4b4-deaf432e9eba",
   "metadata": {},
   "outputs": [],
   "source": [
    "def peakFR(spikeTrain, windowSize = 1000): # NOTE: 1 index = 1 ms np.convolve   window = 1000 # 1000 indices = 1 s\n",
    "    kernel=list(np.zeros(0)) + list(np.ones(windowSize)) + list(np.zeros(0))\n",
    "    \n",
    "    cST = list(np.convolve(spikeTrain, kernel))\n",
    "\n",
    "    peakFR = max(cST)\n",
    "    indexE = cST.index(max(cST)) + 1\n",
    "    indexS = indexE - 1000 if indexE - 1000 >= 0 else 0\n",
    "    \n",
    "    return peakFR, (indexS, indexE)\n",
    "\n",
    "def minFR(spikeTrain, windowSize = 1000):\n",
    "    kernel=list(np.zeros(0)) + list(np.ones(windowSize)) + list(np.zeros(0))\n",
    "\n",
    "    # print(np.shape(spikeTrain))\n",
    "    \n",
    "    cST = list(np.convolve(spikeTrain, kernel, \"same\"))\n",
    "    \n",
    "    minFR = min(cST)\n",
    "    indexE = cST.index(min(cST)) + 1\n",
    "    indexS = indexE - 1000 if indexE - 1000 >= 0 else 0\n",
    "    \n",
    "    return minFR, (indexS, indexE)"
   ]
  },
  {
   "cell_type": "code",
   "execution_count": 25,
   "id": "12762825-1f50-47cc-aeb2-50d9f27ece9d",
   "metadata": {},
   "outputs": [],
   "source": [
    "def isMotif(spikeTrain):\n",
    "    # conditions to be a motif:\n",
    "    #     neuron achieved a peak firing rate of at least 5 Hz (5 spike/1000 indices) and \n",
    "    #     maintained a firing rate above 10% of that peak for at least 300 ms\n",
    "    \n",
    "    pfr, pfrIndices = peakFR(spikeTrain[0:-300])\n",
    "    # print(f\"pfrIndices: {pfrIndices}; np.shape(spikeTrain): {np.shape(spikeTrain)}\")\n",
    "    mfr, mfrIndices = minFR(spikeTrain[pfrIndices[1]:pfrIndices[1]+300])\n",
    "\n",
    "    # print(f\"pfr: {pfr}; mfr: {mfr}; mfrI: {mfrIndices}\")\n",
    "\n",
    "    if pfr >= 5 and mfr > 0.1*pfr:\n",
    "        return True\n",
    "    \n",
    "    return False"
   ]
  },
  {
   "cell_type": "code",
   "execution_count": 46,
   "id": "94155969-75e9-4a9b-8834-97bbee91bd4d",
   "metadata": {},
   "outputs": [],
   "source": [
    "def findMotifs(spikeTrain): # \n",
    "    motifIndices = []\n",
    "    binLen = int(10 * 1000) # 5 seconds\n",
    "\n",
    "    for i in range(len(spikeTrain)//binLen):\n",
    "        start = i * binLen\n",
    "        end = (i+1)*binLen if i!=len(spikeTrain)//binLen else len(spikeTrain)+1\n",
    "        \n",
    "        stBin = spikeTrain[start:end]\n",
    "\n",
    "        if isMotif(stBin):\n",
    "            motifIndices.append((start, end))\n",
    "\n",
    "    return motifIndices"
   ]
  },
  {
   "cell_type": "code",
   "execution_count": 48,
   "id": "0cf6c905-794d-4dcb-a869-edde59450e29",
   "metadata": {},
   "outputs": [],
   "source": [
    "mInds_01 = findMotifs(spikeTrains[0])"
   ]
  },
  {
   "cell_type": "code",
   "execution_count": 41,
   "id": "c81a2067-ae82-4b5a-9436-4f4dab138c72",
   "metadata": {},
   "outputs": [
    {
     "data": {
      "text/plain": [
       "[(127000, 127500),\n",
       " (859000, 859500),\n",
       " (1257500, 1258000),\n",
       " (1273000, 1273500),\n",
       " (3015000, 3015500),\n",
       " (5327500, 5328000),\n",
       " (5452500, 5453000),\n",
       " (5523500, 5524000),\n",
       " (5524500, 5525000),\n",
       " (5525000, 5525500),\n",
       " (5526000, 5526500),\n",
       " (5576500, 5577000),\n",
       " (5582500, 5583000),\n",
       " (5586500, 5587000),\n",
       " (5601000, 5601500),\n",
       " (5602000, 5602500),\n",
       " (5605500, 5606000),\n",
       " (5607000, 5607500),\n",
       " (5608000, 5608500),\n",
       " (5624500, 5625000),\n",
       " (5625500, 5626000),\n",
       " (5627500, 5628000),\n",
       " (5631000, 5631500),\n",
       " (5632500, 5633000),\n",
       " (5633000, 5633500),\n",
       " (5634000, 5634500),\n",
       " (5634500, 5635000),\n",
       " (5638000, 5638500),\n",
       " (5642500, 5643000),\n",
       " (5645000, 5645500),\n",
       " (5646000, 5646500),\n",
       " (5648000, 5648500),\n",
       " (5649500, 5650000),\n",
       " (5650000, 5650500),\n",
       " (5651500, 5652000),\n",
       " (5653000, 5653500),\n",
       " (5654000, 5654500),\n",
       " (5654500, 5655000),\n",
       " (5655000, 5655500),\n",
       " (5655500, 5656000),\n",
       " (5658000, 5658500),\n",
       " (5659000, 5659500),\n",
       " (5664000, 5664500),\n",
       " (5665000, 5665500),\n",
       " (5665500, 5666000),\n",
       " (5666500, 5667000),\n",
       " (5674000, 5674500),\n",
       " (5676500, 5677000),\n",
       " (5677000, 5677500),\n",
       " (5679500, 5680000),\n",
       " (5681000, 5681500),\n",
       " (5692000, 5692500),\n",
       " (5748000, 5748500),\n",
       " (5811000, 5811500),\n",
       " (5812000, 5812500),\n",
       " (5839000, 5839500),\n",
       " (5889000, 5889500),\n",
       " (5891000, 5891500),\n",
       " (5891500, 5892000),\n",
       " (5917000, 5917500),\n",
       " (6099000, 6099500),\n",
       " (6113000, 6113500),\n",
       " (6118500, 6119000),\n",
       " (6154500, 6155000),\n",
       " (6161500, 6162000),\n",
       " (6197500, 6198000),\n",
       " (6353000, 6353500),\n",
       " (6363000, 6363500),\n",
       " (6375000, 6375500),\n",
       " (6384000, 6384500),\n",
       " (6398500, 6399000),\n",
       " (6646500, 6647000),\n",
       " (6692500, 6693000),\n",
       " (6730500, 6731000),\n",
       " (6749500, 6750000),\n",
       " (6761000, 6761500),\n",
       " (6766500, 6767000),\n",
       " (6767500, 6768000),\n",
       " (6786000, 6786500),\n",
       " (6844000, 6844500),\n",
       " (6844500, 6845000),\n",
       " (7001000, 7001500),\n",
       " (7002000, 7002500),\n",
       " (7033000, 7033500),\n",
       " (7054000, 7054500),\n",
       " (7058000, 7058500),\n",
       " (7139000, 7139500),\n",
       " (7145500, 7146000),\n",
       " (7158500, 7159000),\n",
       " (7249500, 7250000),\n",
       " (7250000, 7250500),\n",
       " (7264500, 7265000),\n",
       " (7269500, 7270000),\n",
       " (7412000, 7412500),\n",
       " (7419500, 7420000),\n",
       " (7423500, 7424000),\n",
       " (7426500, 7427000),\n",
       " (7436000, 7436500),\n",
       " (7571000, 7571500),\n",
       " (7577000, 7577500),\n",
       " (7580000, 7580500),\n",
       " (7595500, 7596000),\n",
       " (7596000, 7596500),\n",
       " (7605000, 7605500),\n",
       " (7621000, 7621500),\n",
       " (7635500, 7636000),\n",
       " (7644000, 7644500),\n",
       " (7667000, 7667500),\n",
       " (7672000, 7672500),\n",
       " (7765000, 7765500),\n",
       " (7778000, 7778500),\n",
       " (7891500, 7892000),\n",
       " (7894000, 7894500),\n",
       " (7896000, 7896500),\n",
       " (7903000, 7903500),\n",
       " (7920500, 7921000),\n",
       " (8022000, 8022500),\n",
       " (8043500, 8044000),\n",
       " (8099500, 8100000)]"
      ]
     },
     "execution_count": 41,
     "metadata": {},
     "output_type": "execute_result"
    }
   ],
   "source": [
    "# thresh = 200\n",
    "\n",
    "# for i in range(len(mInds_01) - 1):\n",
    "#     if mInds_01[i+1][0] - mInds_01[i][1] < thresh:\n",
    "#         mInds_01[]"
   ]
  },
  {
   "cell_type": "code",
   "execution_count": 49,
   "id": "be8b8cd3-508c-4435-8e89-ecc329b8c9e2",
   "metadata": {},
   "outputs": [
    {
     "name": "stdout",
     "output_type": "stream",
     "text": [
      "10000, 10000\n"
     ]
    },
    {
     "data": {
      "text/plain": [
       "(array([0., 0., 0., 0., 0., 8., 0., 0., 0., 0.]),\n",
       " array([ 9999.5,  9999.6,  9999.7,  9999.8,  9999.9, 10000. , 10000.1,\n",
       "        10000.2, 10000.3, 10000.4, 10000.5]),\n",
       " <BarContainer object of 10 artists>)"
      ]
     },
     "execution_count": 49,
     "metadata": {},
     "output_type": "execute_result"
    },
    {
     "data": {
      "image/png": "[encoded data removed]",
      "text/plain": [
       "<Figure size 640x480 with 1 Axes>"
      ]
     },
     "metadata": {},
     "output_type": "display_data"
    }
   ],
   "source": [
    "mDurs_01 = [ind[1]-ind[0] for ind in mInds_01]\n",
    "print(f\"{min(mDurs_01)}, {max(mDurs_01)}\")\n",
    "plt.hist(mDurs_01, bins=10)"
   ]
  },
  {
   "cell_type": "markdown",
   "id": "5c1e3eea-083f-49b9-811c-cea8f8bac779",
   "metadata": {},
   "source": [
    "### Plot kymographs of motifs"
   ]
  },
  {
   "cell_type": "markdown",
   "id": "679facaf-2d34-4a92-9e62-b621da46f31f",
   "metadata": {},
   "source": [
    "### Poisson Surprise"
   ]
  },
  {
   "cell_type": "markdown",
   "id": "8f1ffe41-4001-40f5-8847-a39383d26c0f",
   "metadata": {},
   "source": [
    "Initial Pass - isi_ms & poissonSim indexed by mfr_ms + len = len(isi_ms)"
   ]
  },
  {
   "cell_type": "code",
   "execution_count": 14,
   "id": "0a18bc68-7e7b-43c6-8008-f542c60cd40c",
   "metadata": {},
   "outputs": [
    {
     "data": {
      "text/plain": [
       "KstestResult(statistic=0.9972975954114273, pvalue=0.0, statistic_location=0, statistic_sign=-1)"
      ]
     },
     "execution_count": 14,
     "metadata": {},
     "output_type": "execute_result"
    }
   ],
   "source": [
    "mfr_ms = sum(spikeTrains[0])/len(spikeTrains[0]) # avg num of spikes per ms\n",
    "isi_ms = np.diff(unitSpikeTimes_whole[0])\n",
    "isi_ms_10 = [x for x in isi_ms if x <= 10]\n",
    "\n",
    "poissonSim_ms = np.random.poisson(mfr_ms, (len(isi_ms),))\n",
    "ks_2samp(isi_ms, poissonSim_ms)"
   ]
  },
  {
   "cell_type": "code",
   "execution_count": null,
   "id": "4c6e605d-056e-4f3f-97dd-90fce8399c9c",
   "metadata": {
    "scrolled": true
   },
   "outputs": [],
   "source": [
    "plt.figure(1)\n",
    "plt.hist(isi_ms, bins = 100)\n",
    "plt.xlabel(\"ISI (ms)\")\n",
    "plt.ylabel(\"# ISI in each bin\")\n",
    "plt.title(\"ISI Distribution for Unit 1\")\n",
    "\n",
    "plt.figure(2)\n",
    "plt.hist(poissonSim_ms)\n",
    "plt.xlabel(\"Poisson Values\")\n",
    "plt.ylabel(\"# simulated values in each bin\")\n",
    "plt.title(\"Poisson Distribution (lambda = avg # spikes / sec)\")"
   ]
  },
  {
   "cell_type": "markdown",
   "id": "07bfe3a6-8f90-4a55-acc3-e43a21c8aa1a",
   "metadata": {},
   "source": [
    "ISI (sec) for units 1-3 (real)"
   ]
  },
  {
   "cell_type": "code",
   "execution_count": null,
   "id": "0b061b42-cee3-4f8c-9023-688fbe453ab2",
   "metadata": {
    "scrolled": true
   },
   "outputs": [],
   "source": [
    "for i in range(3):\n",
    "    mfr = sum(spikeTrains[i])/len(spikeTrains[i]) * 1000 # avg num of spikes per sec\n",
    "    isi = np.diff(unitSpikeTimes_whole[i])\n",
    "\n",
    "    plt.figure(i) \n",
    "    plt.hist(isi, bins = 100)\n",
    "    plt.xlabel(\"ISI (ms)\")\n",
    "    plt.ylabel(\"# ISI in each bin\")\n",
    "    plt.title(f\"ISI Distribution for Unit {str(i+1)}, mfr={np.round(mfr,3)} spikes/sec\")"
   ]
  },
  {
   "cell_type": "markdown",
   "id": "956d3000-1c0b-47f7-b9c5-eed4441b7c9b",
   "metadata": {},
   "source": [
    "ISI (sec) and Poisson Simulation (np.random.poisson) for three units"
   ]
  },
  {
   "cell_type": "code",
   "execution_count": null,
   "id": "2f44072d-5955-4d9c-938d-4dd6417c1626",
   "metadata": {
    "scrolled": true
   },
   "outputs": [],
   "source": [
    "for i in range(3):\n",
    "    mfr = sum(spikeTrains[i])/len(spikeTrains[i]) * 1000 # avg num of spikes per sec\n",
    "    isi = np.diff(unitSpikeTimes_whole[i])\n",
    "    isi_restr = [x for x in isi if x <=100]\n",
    "    \n",
    "    poissonSim = np.random.poisson(mfr, (len(isi),))\n",
    "\n",
    "    plt.figure(i, figsize=(12, 8))\n",
    "\n",
    "    plt.subplot(1, 2, 1) # gogobop\n",
    "    plt.hist(isi_restr, bins = 100)\n",
    "    plt.xlabel(\"ISI (ms)\")\n",
    "    plt.ylabel(\"# ISI in each bin\")\n",
    "    plt.title(f\"ISI Distribution for Unit {str(i+1)}\")\n",
    "\n",
    "    plt.subplot(1, 2, 2) # gogobop\n",
    "    plt.hist(poissonSim, bins = 10)\n",
    "    plt.xlabel(\"Poisson Values\")\n",
    "    plt.ylabel(\"# simulated values in each bin\")\n",
    "    plt.title(f\"Poisson Distribution (lambda = {np.round(mfr,3)} spikes/sec)\")\n",
    "    plt.savefig(f\"ISIHUnit{str(i+1)}.png\")"
   ]
  },
  {
   "cell_type": "markdown",
   "id": "5353a968-a7ef-4c20-a22f-8c000c3343e0",
   "metadata": {},
   "source": [
    "YLog ISIH for three units, different x-lim"
   ]
  },
  {
   "cell_type": "code",
   "execution_count": null,
   "id": "a289d63d-b974-4f99-ba47-2b866c2c8814",
   "metadata": {
    "scrolled": true
   },
   "outputs": [],
   "source": [
    "# Separately plot the ISIH using log-spaced y-axis binning so that the plot will look like a linear plot?\n",
    "# (p=exp(-lambda*isi) => log(p) = -lambda*isi)\n",
    "\n",
    "for i in range(3):\n",
    "    isi = np.diff(unitSpikeTimes_whole[i])\n",
    "    isi_restr = [x for x in isi if x <=100]\n",
    "\n",
    "    plt.figure(i, figsize=(12, 8))\n",
    "\n",
    "    plt.subplot(1, 2, 1)    \n",
    "    plt.yscale(\"log\") \n",
    "    plt.hist(isi, bins = 100)\n",
    "    \n",
    "    plt.xlabel(\"ISI (ms) - (all)\")\n",
    "    plt.ylabel(\"# ISI in each bin\")\n",
    "    plt.title(f\"ISI Distribution for Unit {str(i+1)}\")\n",
    "\n",
    "    \n",
    "    plt.subplot(1, 2, 2)    \n",
    "    plt.yscale(\"log\") \n",
    "    plt.hist(isi_restr, bins = 100)\n",
    "    \n",
    "    plt.xlabel(\"ISI (ms) - (0-100)\")\n",
    "    plt.ylabel(\"# ISI in each bin\")\n",
    "    plt.title(f\"ISI Distribution for Unit {str(i+1)}\")\n",
    "    \n",
    "    plt.savefig(f\"ISIH-Unit0{str(i+1)}_ylog.png\")"
   ]
  },
  {
   "cell_type": "markdown",
   "id": "081ac746-59e4-4773-aec6-1a56a0073a2f",
   "metadata": {},
   "source": [
    "Custom Poisson Generation"
   ]
  },
  {
   "cell_type": "code",
   "execution_count": null,
   "id": "4e67223d-076b-4b74-a409-ef42499e67d6",
   "metadata": {
    "scrolled": true
   },
   "outputs": [],
   "source": [
    "for i in range(3):\n",
    "    sim = np.random.rand(max(unitSpikeTimes_whole[i]),) # generate a vector of random numbers (between 0 and 1), whose length is equal to the total duration of the experiment\n",
    "    mfr_ms = sum(spikeTrains[i])/len(spikeTrains[i]) # Then compute the mean rate in the units of spikes per milliseconds\n",
    "    sim_ST = [j for j in range(len(sim)) if sim[j] > mfr_ms] # Then find all the index of this vector when the random numbers (that are greater than the spikes/ms).\n",
    "    \n",
    "    sim_ISIH = np.diff(sim_ST) # Compute the ISIH of this data.\n",
    "\n",
    "    plt.figure(i)\n",
    "    plt.hist(sim_ISIH, bins = 10)\n",
    "    plt.xlabel(\"Poisson Values (custom)\")\n",
    "    plt.ylabel(\"# simulated values in each bin\")\n",
    "    plt.title(f\"Poisson Distribution for Unit {i+1}\")\n",
    "    plt.savefig(f\"PoissonDistr-custom-Unit{str(i+1)}.png\")"
   ]
  },
  {
   "cell_type": "markdown",
   "id": "7c697b4b-54d0-477b-ba95-3200755b9166",
   "metadata": {},
   "source": [
    "Poisson Generation (np) indexed by mfr_ms"
   ]
  },
  {
   "cell_type": "code",
   "execution_count": null,
   "id": "391c5ea3-209d-419a-b02e-d811f0825600",
   "metadata": {
    "scrolled": true
   },
   "outputs": [],
   "source": [
    "for i in range(3):\n",
    "    mfr_ms = sum(spikeTrains[i])/len(spikeTrains[i]) # Then compute the mean rate in the units of spikes per milliseconds\n",
    "    sim = np.random.poisson(mfr_ms, (max(unitSpikeTimes_whole[i]),)) # generate a vector of random numbers (between 0 and 1), whose length is equal to the total duration of the experiment\n",
    "\n",
    "    plt.figure(i)\n",
    "    plt.hist(sim, bins = 10)\n",
    "    plt.xlabel(\"Poisson Values (np.random.poisson)\")\n",
    "    plt.ylabel(\"# simulated values in each bin\")\n",
    "    plt.title(f\"Poisson Distribution for Unit {i+1}\")\n",
    "    plt.savefig(f\"PoissonDistr-np-Unit{str(i+1)}.png\")"
   ]
  },
  {
   "cell_type": "markdown",
   "id": "ba844a36-9d06-4ab6-b1ec-9748e708851b",
   "metadata": {},
   "source": [
    "### Siddharth Ver."
   ]
  },
  {
   "cell_type": "code",
   "execution_count": 28,
   "id": "8908df0d-fc9b-4dad-a221-c3ec44decfc0",
   "metadata": {},
   "outputs": [
    {
     "data": {
      "text/plain": [
       "[<matplotlib.lines.Line2D at 0x196f35f1280>]"
      ]
     },
     "execution_count": 28,
     "metadata": {},
     "output_type": "execute_result"
    },
    {
     "data": {
      "image/png": "[encoded data removed]",
      "text/plain": [
       "<Figure size 640x480 with 1 Axes>"
      ]
     },
     "metadata": {},
     "output_type": "display_data"
    }
   ],
   "source": [
    "mfr_ms = sum(spikeTrains[i])/len(spikeTrains[i]) # firingRate * dt\n",
    "sim = np.random.rand(max(unitSpikeTimes_whole[i]),) # spikes\n",
    "\n",
    "\n",
    "sim_stm = [j for j in range(len(sim)) if sim[j] < mfr_ms] # Then find all the index of this vector when the random numbers (that are greater than the spikes/ms).\n",
    "\n",
    "plt.figure()\n",
    "plt.plot(sim_stm[0:1000], np.ones(np.size(sim_stm))[0:1000])"
   ]
  },
  {
   "cell_type": "markdown",
   "id": "d9c2aa6d-1a8d-433a-811f-572905640a30",
   "metadata": {},
   "source": [
    "### Mehta Solution"
   ]
  },
  {
   "cell_type": "markdown",
   "id": "83017592-553e-49b3-8092-4115cf5678e9",
   "metadata": {},
   "source": [
    "dt = rand(1,100000); % generate 100,000 random numbers \n",
    "dt=find(dt>0.9); % find all the 'spike' times when the random number is greater than 0.9, corresponding to firing rate of 10Hz.\n",
    "dt=diff(dt); compute the isi\n",
    "hist(dt,1:1:100); plot the histogram of dt in steps of 1."
   ]
  },
  {
   "cell_type": "markdown",
   "id": "b49b7cee-c7ca-4d34-924e-382dcee90961",
   "metadata": {},
   "source": [
    "The threshold determines the mean firing rate. Higher the threshold, lower the mean firing rate.\n",
    "\n",
    "If you have a set of *uniformly distributed** random numbers between 0 and 1, and if you set threshold at 0.9 so that there is a spike whenever the random number is > 0.9 then 10% of the random numbers will be > 0.9 and hence the mean firing rate will be 10% of the times. With 1ms bin 10% of the times will = mean firing rate of 100Hz (since the highest firing rate with 1ms bin is 1000 hz (i.e. every single millisecond there is a spike)."
   ]
  },
  {
   "cell_type": "code",
   "execution_count": 15,
   "id": "681ca7b9-0a29-4289-81d1-38f7dfa106bd",
   "metadata": {},
   "outputs": [],
   "source": [
    "sim = np.random.rand(max(unitSpikeTimes_whole[0]),) \n",
    "mfr = sum(spikeTrains[0])/len(spikeTrains[0]) * 1000\n",
    "thresh = 1-mfr/1000\n",
    "\n",
    "sim_ST = [j for j in range(len(sim)) if sim[j] > thresh] \n",
    "\n",
    "sim_ISIH = np.diff(sim_ST)"
   ]
  },
  {
   "cell_type": "code",
   "execution_count": 16,
   "id": "c590d9aa-5442-43e9-883b-f7350fd75a7a",
   "metadata": {},
   "outputs": [
    {
     "data": {
      "text/plain": [
       "0.9977653884652538"
      ]
     },
     "execution_count": 16,
     "metadata": {},
     "output_type": "execute_result"
    }
   ],
   "source": [
    "thresh"
   ]
  },
  {
   "cell_type": "code",
   "execution_count": 17,
   "id": "f5e72a06-d3f8-4573-a266-d7d54c561ed4",
   "metadata": {},
   "outputs": [
    {
     "data": {
      "image/png": "[encoded data removed]",
      "text/plain": [
       "<Figure size 640x480 with 1 Axes>"
      ]
     },
     "metadata": {},
     "output_type": "display_data"
    }
   ],
   "source": [
    "sim = np.random.rand(max(unitSpikeTimes_whole[0]),)\n",
    "sim_st = [i for i in range(len(sim)) if sim[i] > 0.9]\n",
    "sim_st_d = np.diff(sim_st)\n",
    "\n",
    "plt.hist(sim_ISIH, bins=len(np.unique(sim_ISIH)))\n",
    "plt.xlabel(f\"Poisson Values (custom, thresh = {thresh})\")\n",
    "plt.ylabel(\"# simulated values in each bin\")\n",
    "plt.title(f\"Poisson Distribution for Unit 01\")\n",
    "plt.savefig(f\"PoissonDistr-thresh0998-Unit01.png\")"
   ]
  },
  {
   "cell_type": "code",
   "execution_count": null,
   "id": "9cbabd06-f2bd-4c2f-8d01-9e3c28a04e43",
   "metadata": {},
   "outputs": [],
   "source": []
  }
 ],
 "metadata": {
  "kernelspec": {
   "display_name": "Python 3 (ipykernel)",
   "language": "python",
   "name": "python3"
  },
  "language_info": {
   "codemirror_mode": {
    "name": "ipython",
    "version": 3
   },
   "file_extension": ".py",
   "mimetype": "text/x-python",
   "name": "python",
   "nbconvert_exporter": "python",
   "pygments_lexer": "ipython3",
   "version": "3.9.20"
  }
 },
 "nbformat": 4,
 "nbformat_minor": 5
}
